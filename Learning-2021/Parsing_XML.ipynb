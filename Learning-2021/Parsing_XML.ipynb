{
 "cells": [
  {
   "cell_type": "code",
   "execution_count": null,
   "metadata": {},
   "outputs": [],
   "source": [
    "# Link: https://www.youtube.com/watch?v=r6dyk68gymk&t=757s"
   ]
  },
  {
   "cell_type": "code",
   "execution_count": 8,
   "metadata": {},
   "outputs": [],
   "source": [
    "import os\n",
    "import xml.etree.ElementTree as ET\n",
    "\n",
    "os.chdir(\"/\")"
   ]
  },
  {
   "cell_type": "code",
   "execution_count": 21,
   "metadata": {},
   "outputs": [],
   "source": [
    "mytree = ET.parse('Sample.xml')\n",
    "myroot = mytree.getroot()\n",
    "\n",
    "#####################\n",
    "## Printing Part 1 ##\n",
    "#####################\n",
    "# print(myroot)\n",
    "# print(myroot.tag)\n",
    "# print(myroot[0].attrib)\n",
    "# for x in myroot[0]:\n",
    "#     print(x.tag, x.attrib)\n",
    "# for x in myroot[0]:\n",
    "#     print(x.text)\n",
    "\n",
    "#####################\n",
    "## Printing Part 2 ##\n",
    "#####################\n",
    "# for x in myroot.findall('food'):\n",
    "#     item=x.find('item').text\n",
    "#     price = x.find('price').text\n",
    "#     print(item, price)\n",
    "\n",
    "#######################################\n",
    "## Modifying and adding an attribute ##\n",
    "#######################################\n",
    "# for x in myroot.iter(\"description\"):\n",
    "#     a = str(x.text) + \"Description has been added\"\n",
    "#     x.text = str(a)\n",
    "#     x.set('updated', 'yes')\n",
    "# mytree.write(\"new.xml\")\n",
    "\n",
    "######################\n",
    "## Adding a new Tag ##\n",
    "######################\n",
    "# ET.SubElement(myroot[0], \"speciality\")\n",
    "# for x in myroot.iter(\"speciality\"):\n",
    "#     b = \"South Indian Special\"\n",
    "#     x.text = str(b)\n",
    "# mytree.write(\"new2.xml\")\n",
    "\n",
    "###########################\n",
    "## Removing an attribute ##\n",
    "###########################\n",
    "# myroot[0][0].attrib.pop(\"name\")\n",
    "# mytree.write(\"new3.xml\")\n",
    "\n",
    "###########################\n",
    "## Removing an Attribute ##\n",
    "###########################\n",
    "# myroot[0].remove(myroot[0][0])\n",
    "# mytree.write(\"new4.xml\")\n",
    "\n",
    "########################################\n",
    "## Removing a block and all it's tags ##\n",
    "########################################\n",
    "# myroot[0].clear()\n",
    "# mytree.write(\"new5.xml\")"
   ]
  },
  {
   "cell_type": "code",
   "execution_count": 11,
   "metadata": {},
   "outputs": [
    {
     "name": "stdout",
     "output_type": "stream",
     "text": [
      "metadata\n"
     ]
    }
   ],
   "source": [
    "data = \"\"\"<?xml version=\"1.0\" encoding=\"UTF-8\"?>\n",
    "<metadata>\n",
    "<food>\n",
    "    <item name=\"breakfast\">Idly</item>\n",
    "    <price>$2.5</price>\n",
    "    <description>\n",
    "   Two idly's with chutney\n",
    "   </description>\n",
    "    <calories>553</calories>\n",
    "</food>\n",
    "</metadata>\n",
    "\"\"\"\n",
    "myroot = ET.fromstring(data)\n",
    "print(myroot.tag)"
   ]
  },
  {
   "cell_type": "code",
   "execution_count": 23,
   "metadata": {},
   "outputs": [],
   "source": [
    "from xml.dom import minidom\n",
    "# 1) Open file method 1\n",
    "# mytree = minidom.parse(\"Sample.xml\")\n",
    "\n",
    "# 2) Open file method 2\n",
    "# data = open(\"Sample.xml\")\n",
    "# a = minidom.parse(data)"
   ]
  },
  {
   "cell_type": "code",
   "execution_count": 24,
   "metadata": {},
   "outputs": [],
   "source": [
    "# data = minidom.parseString(\"<myxml>Using<empty/> parseString</myxml>\")"
   ]
  },
  {
   "cell_type": "code",
   "execution_count": 32,
   "metadata": {},
   "outputs": [
    {
     "name": "stdout",
     "output_type": "stream",
     "text": [
      "[<DOM Element: item at 0x7f44166d5508>, <DOM Element: item at 0x7f44166d5800>, <DOM Element: item at 0x7f44166d5af8>, <DOM Element: item at 0x7f44166d5df0>, <DOM Element: item at 0x7f44166dc178>]\n",
      "5\n"
     ]
    }
   ],
   "source": [
    "from xml.dom import minidom\n",
    "mytree = minidom.parse(\"Sample.xml\")\n",
    "tagname = mytree.getElementsByTagName(\"item\")\n",
    "print(tagname)\n",
    "# print(tagname.attributes[\"name\"].value)\n",
    "# print(tagname.firstChild.data)\n",
    "# print(tagname[1].firstChild.data)\n",
    "\n",
    "# for x in tagname:\n",
    "#     print(x.firstChild.data)\n",
    "\n",
    "print(len(tagname))"
   ]
  },
  {
   "cell_type": "code",
   "execution_count": null,
   "metadata": {},
   "outputs": [],
   "source": []
  },
  {
   "cell_type": "code",
   "execution_count": null,
   "metadata": {},
   "outputs": [],
   "source": []
  },
  {
   "cell_type": "code",
   "execution_count": null,
   "metadata": {},
   "outputs": [],
   "source": []
  }
 ],
 "metadata": {
  "kernelspec": {
   "display_name": "Python 3",
   "language": "python",
   "name": "python3"
  },
  "language_info": {
   "codemirror_mode": {
    "name": "ipython",
    "version": 3
   },
   "file_extension": ".py",
   "mimetype": "text/x-python",
   "name": "python",
   "nbconvert_exporter": "python",
   "pygments_lexer": "ipython3",
   "version": "3.6.10"
  }
 },
 "nbformat": 4,
 "nbformat_minor": 4
}
